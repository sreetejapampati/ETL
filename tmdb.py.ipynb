{
 "cells": [
  {
   "cell_type": "code",
   "execution_count": 1,
   "id": "c6021456",
   "metadata": {},
   "outputs": [],
   "source": [
    "import pandas as pd\n",
    "import requests\n",
    "import config"
   ]
  },
  {
   "cell_type": "code",
   "execution_count": 2,
   "id": "a6ba4eda",
   "metadata": {},
   "outputs": [],
   "source": [
    "response_list = []\n",
    "API_KEY = config.api_key\n",
    "\n",
    "for movie_id in range(550,556): \n",
    "  url = 'https://api.themoviedb.org/3/movie/{}?api_key={}'.format(movie_id, API_KEY)\n",
    "  r = requests.get(url)\n",
    "  response_list.append(r.json())"
   ]
  },
  {
   "cell_type": "code",
   "execution_count": 4,
   "id": "68f0d06f",
   "metadata": {},
   "outputs": [
    {
     "name": "stdout",
     "output_type": "stream",
     "text": [
      "   adult                     backdrop_path  \\\n",
      "0  False  /rr7E0NoGKxvbkb89eR1GwfoYjpA.jpg   \n",
      "1  False  /wMNs0x98yGMjJJ2cGjiR9luINqF.jpg   \n",
      "2  False  /k4JIHyAXaGHwAwT7y5Skd17f0Wl.jpg   \n",
      "3  False  /r3xsFBD1VTUusk393bBc7SsDUJe.jpg   \n",
      "4  False  /1qwXItFKqvKYyW1CwbYhxyUC8Pj.jpg   \n",
      "\n",
      "                               belongs_to_collection    budget  \\\n",
      "0                                               None  63000000   \n",
      "1  {'id': 372257, 'name': 'The Poseidon Adventure...   5000000   \n",
      "2                                               None         0   \n",
      "3  {'id': 1952, 'name': 'USA: Land of Opportuniti...  10000000   \n",
      "4                                               None         0   \n",
      "\n",
      "                                              genres  \\\n",
      "0                      [{'id': 18, 'name': 'Drama'}]   \n",
      "1  [{'id': 28, 'name': 'Action'}, {'id': 12, 'nam...   \n",
      "2  [{'id': 35, 'name': 'Comedy'}, {'id': 10749, '...   \n",
      "3  [{'id': 80, 'name': 'Crime'}, {'id': 18, 'name...   \n",
      "4  [{'id': 18, 'name': 'Drama'}, {'id': 36, 'name...   \n",
      "\n",
      "                                     homepage   id    imdb_id  \\\n",
      "0  http://www.foxmovies.com/movies/fight-club  550  tt0137523   \n",
      "1                                              551  tt0069113   \n",
      "2                                              552  tt0237539   \n",
      "3                                              553  tt0276919   \n",
      "4                                              554  tt0308476   \n",
      "\n",
      "  original_language          original_title  ... release_date    revenue  \\\n",
      "0                en              Fight Club  ...   1999-10-15  100853753   \n",
      "1                en  The Poseidon Adventure  ...   1972-12-13   84563118   \n",
      "2                it         Pane e tulipani  ...   2000-03-03    8478434   \n",
      "3                en                Dogville  ...   2003-05-19   16680836   \n",
      "4                ru                 Кукушка  ...   2002-01-01          0   \n",
      "\n",
      "  runtime                                   spoken_languages    status  \\\n",
      "0     139  [{'english_name': 'English', 'iso_639_1': 'en'...  Released   \n",
      "1     117  [{'english_name': 'English', 'iso_639_1': 'en'...  Released   \n",
      "2     114  [{'english_name': 'Italian', 'iso_639_1': 'it'...  Released   \n",
      "3     178  [{'english_name': 'English', 'iso_639_1': 'en'...  Released   \n",
      "4     100  [{'english_name': 'German', 'iso_639_1': 'de',...  Released   \n",
      "\n",
      "                                  tagline                   title  video  \\\n",
      "0                 Mischief. Mayhem. Soap.              Fight Club  False   \n",
      "1                       Hell, Upside Down  The Poseidon Adventure  False   \n",
      "2      Imagine your life. Now go live it.        Bread and Tulips  False   \n",
      "3  A quiet little town not far from here.                Dogville  False   \n",
      "4   She's Making Peace One Man at a Time.              The Cuckoo  False   \n",
      "\n",
      "  vote_average vote_count  \n",
      "0          8.4      23564  \n",
      "1          7.2        630  \n",
      "2          7.3        198  \n",
      "3          7.8       1889  \n",
      "4          7.1         64  \n",
      "\n",
      "[5 rows x 25 columns]\n"
     ]
    }
   ],
   "source": [
    "df = pd.DataFrame.from_dict(response_list)\n",
    "print(df.head())\n",
    "#the website said that I should be getting 6 rows X 38 columns, but I am only getting 5x25 \n",
    "\n"
   ]
  },
  {
   "cell_type": "code",
   "execution_count": 5,
   "id": "4b88223c",
   "metadata": {},
   "outputs": [],
   "source": [
    "\n",
    "df_columns = ['budget', 'genres', 'id', 'imdb_id', 'original_title', 'release_date', 'revenue', 'runtime']"
   ]
  },
  {
   "cell_type": "code",
   "execution_count": 6,
   "id": "f4dca21e",
   "metadata": {},
   "outputs": [],
   "source": [
    "genres_list = df['genres'].tolist()\n",
    "flat_list = [item for sublist in genres_list for item in sublist]\n",
    "\n",
    "result = []\n",
    "for l in genres_list:\n",
    "    r = []\n",
    "    for d in l:\n",
    "        r.append(d['name'])\n",
    "    result.append(r)\n",
    "df = df.assign(genres_all=result)"
   ]
  },
  {
   "cell_type": "code",
   "execution_count": 7,
   "id": "a002b2b5",
   "metadata": {},
   "outputs": [],
   "source": [
    "df_genres = pd.DataFrame.from_records(flat_list).drop_duplicates()"
   ]
  },
  {
   "cell_type": "code",
   "execution_count": 8,
   "id": "8d44efa1",
   "metadata": {},
   "outputs": [
    {
     "name": "stdout",
     "output_type": "stream",
     "text": [
      "   id       name\n",
      "0  18      Drama\n",
      "1  28     Action\n",
      "2  12  Adventure\n",
      "4  53   Thriller\n",
      "5  35     Comedy\n"
     ]
    }
   ],
   "source": [
    "print(df_genres.head())"
   ]
  },
  {
   "cell_type": "code",
   "execution_count": 10,
   "id": "420f4ed9",
   "metadata": {},
   "outputs": [],
   "source": [
    "df_columns = ['budget', 'id', 'imdb_id', 'original_title', 'release_date', 'revenue', 'runtime']\n",
    "df_genre_columns = df_genres['name'].to_list()\n",
    "df_columns.extend(df_genre_columns)\n",
    "\n",
    "s = df['genres_all'].explode()\n",
    "df = df.join(pd.crosstab(s.index, s))\n"
   ]
  },
  {
   "cell_type": "code",
   "execution_count": 12,
   "id": "4980592c",
   "metadata": {},
   "outputs": [
    {
     "name": "stdout",
     "output_type": "stream",
     "text": [
      "     budget   id    imdb_id          original_title release_date    revenue  \\\n",
      "0  63000000  550  tt0137523              Fight Club   1999-10-15  100853753   \n",
      "1   5000000  551  tt0069113  The Poseidon Adventure   1972-12-13   84563118   \n",
      "2         0  552  tt0237539         Pane e tulipani   2000-03-03    8478434   \n",
      "3  10000000  553  tt0276919                Dogville   2003-05-19   16680836   \n",
      "4         0  554  tt0308476                 Кукушка   2002-01-01          0   \n",
      "5         0  555  tt0442896                 Absolut   2005-04-20          0   \n",
      "\n",
      "   runtime  Drama  Action  Adventure  Thriller  Comedy  Romance  Crime  \\\n",
      "0      139      1       0          0         0       0        0      0   \n",
      "1      117      1       1          1         1       0        0      0   \n",
      "2      114      0       0          0         0       1        1      0   \n",
      "3      178      1       0          0         1       0        0      1   \n",
      "4      100      1       0          0         0       1        1      0   \n",
      "5       94      0       0          0         1       0        0      0   \n",
      "\n",
      "   History  \n",
      "0        0  \n",
      "1        0  \n",
      "2        0  \n",
      "3        0  \n",
      "4        1  \n",
      "5        0  \n"
     ]
    }
   ],
   "source": [
    "print(df[df_columns])"
   ]
  },
  {
   "cell_type": "code",
   "execution_count": 13,
   "id": "64673b7c",
   "metadata": {},
   "outputs": [],
   "source": [
    "df['release_date'] = pd.to_datetime(df['release_date'])\n",
    "df['day'] = df['release_date'].dt.day\n",
    "df['month'] = df['release_date'].dt.month\n",
    "df['year'] = df['release_date'].dt.year\n",
    "df['day_of_week'] = df['release_date'].dt.day_name()\n",
    "df_time_columns = ['id', 'release_date', 'day', 'month', 'year', 'day_of_week']"
   ]
  },
  {
   "cell_type": "code",
   "execution_count": 14,
   "id": "ce70ebd3",
   "metadata": {},
   "outputs": [
    {
     "name": "stdout",
     "output_type": "stream",
     "text": [
      "    id release_date  day  month  year day_of_week\n",
      "0  550   1999-10-15   15     10  1999      Friday\n",
      "1  551   1972-12-13   13     12  1972   Wednesday\n",
      "2  552   2000-03-03    3      3  2000      Friday\n",
      "3  553   2003-05-19   19      5  2003      Monday\n",
      "4  554   2002-01-01    1      1  2002     Tuesday\n",
      "5  555   2005-04-20   20      4  2005   Wednesday\n"
     ]
    }
   ],
   "source": [
    "print(df[df_time_columns])"
   ]
  },
  {
   "cell_type": "code",
   "execution_count": null,
   "id": "c74d7891",
   "metadata": {},
   "outputs": [],
   "source": []
  }
 ],
 "metadata": {
  "kernelspec": {
   "display_name": "Python 3 (ipykernel)",
   "language": "python",
   "name": "python3"
  },
  "language_info": {
   "codemirror_mode": {
    "name": "ipython",
    "version": 3
   },
   "file_extension": ".py",
   "mimetype": "text/x-python",
   "name": "python",
   "nbconvert_exporter": "python",
   "pygments_lexer": "ipython3",
   "version": "3.9.7"
  }
 },
 "nbformat": 4,
 "nbformat_minor": 5
}
